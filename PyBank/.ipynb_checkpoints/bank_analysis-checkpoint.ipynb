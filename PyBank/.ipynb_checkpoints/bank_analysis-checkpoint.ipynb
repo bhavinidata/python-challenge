{
 "cells": [
  {
   "cell_type": "code",
   "execution_count": 1,
   "metadata": {},
   "outputs": [
    {
     "name": "stdout",
     "output_type": "stream",
     "text": [
      "Financial Analysis\n",
      "---------------------------\n",
      "Total Months: 86\n",
      "Net total amount of profit/losses: $38382578\n",
      "Average change in profitLosses: -2315.12\n",
      "Greatest Increase in Profits: Feb-2012, ($1926159)\n",
      "Greatest Decrease in Profits: Sep-2013, ($-2196167)\n"
     ]
    }
   ],
   "source": [
    "import os\n",
    "import csv\n",
    "\n",
    "# List to store data\n",
    "date = []\n",
    "profit_losses = []\n",
    "monthlychange = {\"dates\": [],\n",
    "                 \"change\": []}\n",
    "\n",
    "# set the path for source file to read\n",
    "csv_path = os.path.join(\"Resources\", \"budget_data.csv\")\n",
    "\n",
    "# Open file and read with csvreader. store data in list\n",
    "with open (csv_path, \"r\") as bankanalysisfile:\n",
    "    csv_reader = csv.reader(bankanalysisfile, delimiter=\",\")\n",
    "    csvheader = next(bankanalysisfile)\n",
    "    \n",
    "    for row in csv_reader:\n",
    "        date.append(row[0])\n",
    "        profit_losses.append(int(row[1]))\n",
    "        last_index = len(profit_losses) - 1\n",
    "#       if there are more than one elements in profit_losses list then find the difference between the two.\n",
    "#       and store the date as key and differences as value in new dictionary \"monthly_change\".\n",
    "        if last_index > 0:\n",
    "            change_in_profit_losses = profit_losses[last_index] - profit_losses[last_index-1]\n",
    "            monthlychange[\"dates\"].append(row[0])\n",
    "            monthlychange[\"change\"].append(change_in_profit_losses)\n",
    "\n",
    "print(f\"Financial Analysis\")\n",
    "print(f\"---------------------------\")\n",
    "\n",
    "# Find the total months\n",
    "total_month = len(date)\n",
    "print(f\"Total Months: {total_month}\")\n",
    "\n",
    "# Find net proft/Losses\n",
    "net_profit_losses = sum(profit_losses)\n",
    "print(f\"Total: ${net_profit_losses}\")\n",
    "\n",
    "# Find the average of monthly changes in profit losses.\n",
    "avg_of_changes = sum(monthlychange[\"change\"])/(len(monthlychange[\"change\"]))\n",
    "print(f\"Average change: {round(avg_of_changes,2)}\")\n",
    "\n",
    "max_profit = max(monthlychange[\"change\"])\n",
    "max_loss = min(monthlychange[\"change\"])\n",
    "max_profit_month = monthlychange[\"dates\"][monthlychange[\"change\"].index(max_profit)]\n",
    "print(f\"Greatest Increase in Profits: {max_profit_month}, (${max_profit})\")\n",
    "max_loss_month = monthlychange[\"dates\"][monthlychange[\"change\"].index(max_loss)]\n",
    "print(f\"Greatest Decrease in Profits: {max_loss_month}, (${max_loss})\")\n",
    "\n",
    "# set the output file path.\n",
    "output_file = os.path.join(\"financial_analysis.txt\")\n",
    "# Print output to the terminal as well as in text file\n",
    "with open (output_file, \"w\") as datafile:\n",
    "    print(f\"Financial Analysis\", file = datafile)\n",
    "    print(f\"---------------------------\", file = datafile)\n",
    "    print(f\"Total Months: {total_month}\", file = datafile)\n",
    "    print(f\"Total: ${net_profit_losses}\", file = datafile)\n",
    "    print(f\"Average change: {round(avg_of_changes,2)}\", file = datafile)\n",
    "    print(f\"Greatest Increase in Profits: {max_profit_month}, (${max_profit})\", file = datafile)\n",
    "    print(f\"Greatest Decrease in Profits: {max_loss_month}, (${max_loss})\", file = datafile)\n"
   ]
  },
  {
   "cell_type": "code",
   "execution_count": null,
   "metadata": {},
   "outputs": [],
   "source": []
  }
 ],
 "metadata": {
  "kernelspec": {
   "display_name": "Conda [PythonData]",
   "language": "python",
   "name": "pythondata"
  },
  "language_info": {
   "codemirror_mode": {
    "name": "ipython",
    "version": 3
   },
   "file_extension": ".py",
   "mimetype": "text/x-python",
   "name": "python",
   "nbconvert_exporter": "python",
   "pygments_lexer": "ipython3",
   "version": "3.7.3"
  }
 },
 "nbformat": 4,
 "nbformat_minor": 2
}
