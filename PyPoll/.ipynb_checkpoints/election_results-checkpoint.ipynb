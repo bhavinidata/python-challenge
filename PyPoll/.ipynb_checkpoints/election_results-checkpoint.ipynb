{
 "cells": [
  {
   "cell_type": "code",
   "execution_count": 14,
   "metadata": {},
   "outputs": [
    {
     "name": "stdout",
     "output_type": "stream",
     "text": [
      "Election Results\n",
      "------------------------\n",
      "Total Votes: 3521001\n",
      "------------------------\n",
      "Khan: 63.000% (2218231)\n",
      "Correy: 20.000% (704200)\n",
      "Li: 14.000% (492940)\n",
      "O'Tooley: 3.000% (105630)\n",
      "------------------------\n",
      "Winner: Khan\n",
      "------------------------\n"
     ]
    }
   ],
   "source": [
    "def main():\n",
    "    import os\n",
    "    import csv\n",
    "\n",
    "    # set the path for source file to read\n",
    "    csv_path = os.path.join(\"Resources\", \"election_data.csv\")\n",
    "\n",
    "    # List to store data\n",
    "    voter_id = []\n",
    "    candidate_list = []\n",
    "    final_candidate_list = []\n",
    "    new_dict = {}\n",
    "\n",
    "    # Open file and read with csvreader. store data in list\n",
    "    with open (csv_path, \"r\") as elec_datafile:\n",
    "        csv_reader = csv.reader(elec_datafile, delimiter=\",\")\n",
    "        csvheadr = next(elec_datafile)\n",
    "\n",
    "        for row in csv_reader:\n",
    "            voter_id.append(row[0])\n",
    "            candidate_list.append(row[2])\n",
    "\n",
    "    # count total number of votes\n",
    "    total_votes = len(voter_id)\n",
    "\n",
    "    # Print the results\n",
    "    print(f\"Election Results\")\n",
    "    print(f\"------------------------\")\n",
    "    print(f\"Total Votes: {total_votes}\")\n",
    "\n",
    "    # create a dictionary for each candidate with name as key and total votes as value.\n",
    "    # check if key is not in the dictionary, add key and one to the value, \n",
    "    # otherwise just increase the value to get the total votes for each candidate.\n",
    "    for name in candidate_list:\n",
    "        if name in new_dict:\n",
    "            new_dict[name] += 1\n",
    "        else:\n",
    "            new_dict[name] = 1\n",
    "\n",
    "    # set output file path.\n",
    "    output_file = os.path.join(\"elect_Res.txt\")\n",
    "    # Print output to the terminal as well as in text file\n",
    "    with open (output_file, \"w\") as datafile:\n",
    "        print(f\"Election Results\", file = datafile)\n",
    "        print(f\"------------------------\", file = datafile)\n",
    "        print(f\"Total Votes: {total_votes}\", file = datafile)\n",
    "        print(f\"------------------------\")\n",
    "        for name in new_dict:\n",
    "            total_per = format(round((new_dict[name]/total_votes)*100), \".3f\")\n",
    "            print(f\"{name}: {total_per}% ({new_dict[name]})\")\n",
    "            print(f\"{name}: {total_per}% ({new_dict[name]})\", file = datafile)\n",
    "        winner = max(new_dict, key = new_dict.get)\n",
    "        print(f\"------------------------\")\n",
    "        print(f\"------------------------\", file = datafile)\n",
    "        print(f\"Winner: {winner}\")\n",
    "        print(f\"Winner: {winner}\", file = datafile)\n",
    "        print(f\"------------------------\")\n",
    "        print(f\"------------------------\", file = datafile)\n",
    "        \n",
    "if __name__ == \"__main__\":\n",
    "    main()"
   ]
  },
  {
   "cell_type": "code",
   "execution_count": 15,
   "metadata": {},
   "outputs": [
    {
     "name": "stdout",
     "output_type": "stream",
     "text": [
      "Election Results\n",
      "------------------------\n",
      "Total Votes: 3521001\n",
      "------------------------\n",
      "Khan: 63.000% (2218231)\n",
      "Correy: 20.000% (704200)\n",
      "Li: 14.000% (492940)\n",
      "O'Tooley: 3.000% (105630)\n",
      "------------------------\n",
      "Winner: Khan\n",
      "------------------------\n"
     ]
    }
   ],
   "source": [
    "!python election_results.py"
   ]
  },
  {
   "cell_type": "code",
   "execution_count": null,
   "metadata": {},
   "outputs": [],
   "source": []
  }
 ],
 "metadata": {
  "kernelspec": {
   "display_name": "Conda [PythonData]",
   "language": "python",
   "name": "pythondata"
  },
  "language_info": {
   "codemirror_mode": {
    "name": "ipython",
    "version": 3
   },
   "file_extension": ".py",
   "mimetype": "text/x-python",
   "name": "python",
   "nbconvert_exporter": "python",
   "pygments_lexer": "ipython3",
   "version": "3.7.3"
  }
 },
 "nbformat": 4,
 "nbformat_minor": 2
}
